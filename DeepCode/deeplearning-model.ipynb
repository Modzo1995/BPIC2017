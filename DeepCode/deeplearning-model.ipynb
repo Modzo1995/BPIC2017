{
 "cells": [
  {
   "cell_type": "code",
   "execution_count": 18,
   "metadata": {
    "_cell_guid": "b1076dfc-b9ad-4769-8c92-a6c4dae69d19",
    "_uuid": "8f2839f25d086af736a60e9eeb907d3b93b6e0e5",
    "execution": {
     "iopub.execute_input": "2022-11-07T10:39:28.399693Z",
     "iopub.status.busy": "2022-11-07T10:39:28.399315Z",
     "iopub.status.idle": "2022-11-07T10:39:28.502414Z",
     "shell.execute_reply": "2022-11-07T10:39:28.501695Z",
     "shell.execute_reply.started": "2022-11-07T10:39:28.399611Z"
    },
    "trusted": true
   },
   "outputs": [],
   "source": [
    "import numpy as np # linear algebra\n",
    "import pandas as pd # data processing, CSV file I/O (e.g. pd.read_csv)\n",
    "import tensorflow as tf\n",
    "from tensorflow import keras\n",
    "from tensorflow.keras import layers\n",
    "from sklearn.preprocessing import LabelEncoder\n",
    "from sklearn.model_selection import train_test_split\n",
    "import keras_tuner as kt"
   ]
  },
  {
   "cell_type": "code",
   "execution_count": 2,
   "metadata": {
    "execution": {
     "iopub.execute_input": "2022-11-07T10:39:28.504578Z",
     "iopub.status.busy": "2022-11-07T10:39:28.504111Z",
     "iopub.status.idle": "2022-11-07T10:39:34.516452Z",
     "shell.execute_reply": "2022-11-07T10:39:34.515715Z",
     "shell.execute_reply.started": "2022-11-07T10:39:28.504541Z"
    },
    "trusted": true
   },
   "outputs": [
    {
     "data": {
      "text/html": [
       "<div>\n",
       "<style scoped>\n",
       "    .dataframe tbody tr th:only-of-type {\n",
       "        vertical-align: middle;\n",
       "    }\n",
       "\n",
       "    .dataframe tbody tr th {\n",
       "        vertical-align: top;\n",
       "    }\n",
       "\n",
       "    .dataframe thead th {\n",
       "        text-align: right;\n",
       "    }\n",
       "</style>\n",
       "<table border=\"1\" class=\"dataframe\">\n",
       "  <thead>\n",
       "    <tr style=\"text-align: right;\">\n",
       "      <th></th>\n",
       "      <th>Action</th>\n",
       "      <th>org:resource</th>\n",
       "      <th>concept:name</th>\n",
       "      <th>EventOrigin</th>\n",
       "      <th>lifecycle:transition</th>\n",
       "      <th>case:LoanGoal</th>\n",
       "      <th>case:ApplicationType</th>\n",
       "      <th>case:concept:name</th>\n",
       "      <th>case:RequestedAmount</th>\n",
       "      <th>FirstWithdrawalAmount</th>\n",
       "      <th>NumberOfTerms</th>\n",
       "      <th>Accepted</th>\n",
       "      <th>MonthlyCost</th>\n",
       "      <th>Selected</th>\n",
       "      <th>CreditScore</th>\n",
       "      <th>OfferedAmount</th>\n",
       "      <th>OfferID</th>\n",
       "      <th>iteration</th>\n",
       "    </tr>\n",
       "  </thead>\n",
       "  <tbody>\n",
       "    <tr>\n",
       "      <th>0</th>\n",
       "      <td>Created</td>\n",
       "      <td>User_1</td>\n",
       "      <td>A_Create Application</td>\n",
       "      <td>Application</td>\n",
       "      <td>complete</td>\n",
       "      <td>Existing loan takeover</td>\n",
       "      <td>New credit</td>\n",
       "      <td>Application_652823628</td>\n",
       "      <td>20000.0</td>\n",
       "      <td>20000.0</td>\n",
       "      <td>44.0</td>\n",
       "      <td>True</td>\n",
       "      <td>498.29</td>\n",
       "      <td>True</td>\n",
       "      <td>979.0</td>\n",
       "      <td>20000.0</td>\n",
       "      <td>Offer_148581083</td>\n",
       "      <td>1</td>\n",
       "    </tr>\n",
       "    <tr>\n",
       "      <th>1</th>\n",
       "      <td>statechange</td>\n",
       "      <td>User_1</td>\n",
       "      <td>A_Submitted</td>\n",
       "      <td>Application</td>\n",
       "      <td>complete</td>\n",
       "      <td>Existing loan takeover</td>\n",
       "      <td>New credit</td>\n",
       "      <td>Application_652823628</td>\n",
       "      <td>20000.0</td>\n",
       "      <td>20000.0</td>\n",
       "      <td>44.0</td>\n",
       "      <td>True</td>\n",
       "      <td>498.29</td>\n",
       "      <td>True</td>\n",
       "      <td>979.0</td>\n",
       "      <td>20000.0</td>\n",
       "      <td>Offer_148581083</td>\n",
       "      <td>1</td>\n",
       "    </tr>\n",
       "    <tr>\n",
       "      <th>2</th>\n",
       "      <td>Created</td>\n",
       "      <td>User_1</td>\n",
       "      <td>W_Handle leads</td>\n",
       "      <td>Workflow</td>\n",
       "      <td>schedule</td>\n",
       "      <td>Existing loan takeover</td>\n",
       "      <td>New credit</td>\n",
       "      <td>Application_652823628</td>\n",
       "      <td>20000.0</td>\n",
       "      <td>20000.0</td>\n",
       "      <td>44.0</td>\n",
       "      <td>True</td>\n",
       "      <td>498.29</td>\n",
       "      <td>True</td>\n",
       "      <td>979.0</td>\n",
       "      <td>20000.0</td>\n",
       "      <td>Offer_148581083</td>\n",
       "      <td>1</td>\n",
       "    </tr>\n",
       "    <tr>\n",
       "      <th>3</th>\n",
       "      <td>Deleted</td>\n",
       "      <td>User_1</td>\n",
       "      <td>W_Handle leads</td>\n",
       "      <td>Workflow</td>\n",
       "      <td>withdraw</td>\n",
       "      <td>Existing loan takeover</td>\n",
       "      <td>New credit</td>\n",
       "      <td>Application_652823628</td>\n",
       "      <td>20000.0</td>\n",
       "      <td>20000.0</td>\n",
       "      <td>44.0</td>\n",
       "      <td>True</td>\n",
       "      <td>498.29</td>\n",
       "      <td>True</td>\n",
       "      <td>979.0</td>\n",
       "      <td>20000.0</td>\n",
       "      <td>Offer_148581083</td>\n",
       "      <td>2</td>\n",
       "    </tr>\n",
       "    <tr>\n",
       "      <th>4</th>\n",
       "      <td>Created</td>\n",
       "      <td>User_1</td>\n",
       "      <td>W_Complete application</td>\n",
       "      <td>Workflow</td>\n",
       "      <td>schedule</td>\n",
       "      <td>Existing loan takeover</td>\n",
       "      <td>New credit</td>\n",
       "      <td>Application_652823628</td>\n",
       "      <td>20000.0</td>\n",
       "      <td>20000.0</td>\n",
       "      <td>44.0</td>\n",
       "      <td>True</td>\n",
       "      <td>498.29</td>\n",
       "      <td>True</td>\n",
       "      <td>979.0</td>\n",
       "      <td>20000.0</td>\n",
       "      <td>Offer_148581083</td>\n",
       "      <td>1</td>\n",
       "    </tr>\n",
       "  </tbody>\n",
       "</table>\n",
       "</div>"
      ],
      "text/plain": [
       "        Action org:resource            concept:name  EventOrigin  \\\n",
       "0      Created       User_1    A_Create Application  Application   \n",
       "1  statechange       User_1             A_Submitted  Application   \n",
       "2      Created       User_1          W_Handle leads     Workflow   \n",
       "3      Deleted       User_1          W_Handle leads     Workflow   \n",
       "4      Created       User_1  W_Complete application     Workflow   \n",
       "\n",
       "  lifecycle:transition           case:LoanGoal case:ApplicationType  \\\n",
       "0             complete  Existing loan takeover           New credit   \n",
       "1             complete  Existing loan takeover           New credit   \n",
       "2             schedule  Existing loan takeover           New credit   \n",
       "3             withdraw  Existing loan takeover           New credit   \n",
       "4             schedule  Existing loan takeover           New credit   \n",
       "\n",
       "       case:concept:name  case:RequestedAmount  FirstWithdrawalAmount  \\\n",
       "0  Application_652823628               20000.0                20000.0   \n",
       "1  Application_652823628               20000.0                20000.0   \n",
       "2  Application_652823628               20000.0                20000.0   \n",
       "3  Application_652823628               20000.0                20000.0   \n",
       "4  Application_652823628               20000.0                20000.0   \n",
       "\n",
       "   NumberOfTerms  Accepted  MonthlyCost  Selected  CreditScore  OfferedAmount  \\\n",
       "0           44.0      True       498.29      True        979.0        20000.0   \n",
       "1           44.0      True       498.29      True        979.0        20000.0   \n",
       "2           44.0      True       498.29      True        979.0        20000.0   \n",
       "3           44.0      True       498.29      True        979.0        20000.0   \n",
       "4           44.0      True       498.29      True        979.0        20000.0   \n",
       "\n",
       "           OfferID  iteration  \n",
       "0  Offer_148581083          1  \n",
       "1  Offer_148581083          1  \n",
       "2  Offer_148581083          1  \n",
       "3  Offer_148581083          2  \n",
       "4  Offer_148581083          1  "
      ]
     },
     "execution_count": 2,
     "metadata": {},
     "output_type": "execute_result"
    }
   ],
   "source": [
    "data = pd.read_csv('DataIteration.csv')\n",
    "data.head()"
   ]
  },
  {
   "cell_type": "code",
   "execution_count": 3,
   "metadata": {
    "execution": {
     "iopub.execute_input": "2022-11-07T10:39:34.518064Z",
     "iopub.status.busy": "2022-11-07T10:39:34.517755Z",
     "iopub.status.idle": "2022-11-07T10:39:35.624427Z",
     "shell.execute_reply": "2022-11-07T10:39:35.623699Z",
     "shell.execute_reply.started": "2022-11-07T10:39:34.518027Z"
    },
    "trusted": true
   },
   "outputs": [
    {
     "data": {
      "text/plain": [
       "Action                       5\n",
       "org:resource               149\n",
       "concept:name                26\n",
       "EventOrigin                  3\n",
       "lifecycle:transition         7\n",
       "case:LoanGoal               14\n",
       "case:ApplicationType         2\n",
       "case:concept:name        31509\n",
       "case:RequestedAmount       701\n",
       "FirstWithdrawalAmount     5930\n",
       "NumberOfTerms              147\n",
       "Accepted                     2\n",
       "MonthlyCost               5816\n",
       "Selected                     2\n",
       "CreditScore                520\n",
       "OfferedAmount              663\n",
       "OfferID                  42995\n",
       "iteration                  123\n",
       "dtype: int64"
      ]
     },
     "execution_count": 3,
     "metadata": {},
     "output_type": "execute_result"
    }
   ],
   "source": [
    "data.nunique()"
   ]
  },
  {
   "cell_type": "code",
   "execution_count": 4,
   "metadata": {
    "execution": {
     "iopub.execute_input": "2022-11-07T10:39:35.626653Z",
     "iopub.status.busy": "2022-11-07T10:39:35.626396Z",
     "iopub.status.idle": "2022-11-07T10:39:35.712234Z",
     "shell.execute_reply": "2022-11-07T10:39:35.711427Z",
     "shell.execute_reply.started": "2022-11-07T10:39:35.626617Z"
    },
    "trusted": true
   },
   "outputs": [
    {
     "data": {
      "text/plain": [
       "array(['complete', 'schedule', 'withdraw', 'start', 'suspend',\n",
       "       'ate_abort', 'resume'], dtype=object)"
      ]
     },
     "execution_count": 4,
     "metadata": {},
     "output_type": "execute_result"
    }
   ],
   "source": [
    "data['lifecycle:transition'].unique()"
   ]
  },
  {
   "cell_type": "code",
   "execution_count": 5,
   "metadata": {
    "execution": {
     "iopub.execute_input": "2022-11-07T10:39:35.714001Z",
     "iopub.status.busy": "2022-11-07T10:39:35.713705Z",
     "iopub.status.idle": "2022-11-07T10:39:35.789077Z",
     "shell.execute_reply": "2022-11-07T10:39:35.788007Z",
     "shell.execute_reply.started": "2022-11-07T10:39:35.713962Z"
    },
    "trusted": true
   },
   "outputs": [
    {
     "data": {
      "text/plain": [
       "(array([     12,      19,      25, ..., 1202232, 1202245, 1202262]),)"
      ]
     },
     "execution_count": 5,
     "metadata": {},
     "output_type": "execute_result"
    }
   ],
   "source": [
    "np.where(data['lifecycle:transition'] == 'ate_abort')"
   ]
  },
  {
   "cell_type": "code",
   "execution_count": 6,
   "metadata": {
    "execution": {
     "iopub.execute_input": "2022-11-07T10:39:35.791158Z",
     "iopub.status.busy": "2022-11-07T10:39:35.790765Z",
     "iopub.status.idle": "2022-11-07T10:39:35.962694Z",
     "shell.execute_reply": "2022-11-07T10:39:35.961967Z",
     "shell.execute_reply.started": "2022-11-07T10:39:35.791123Z"
    },
    "trusted": true
   },
   "outputs": [],
   "source": [
    "#target = np.where((data['lifecycle:transition'] == 'ate_abort') | (data['iteration'] >= 3),1,0)\n",
    "\n",
    "#target = target\n",
    "target1 = data['lifecycle:transition'].shift(1)\n",
    "target2 = data[\"iteration\"].shift(1)\n",
    "target_1 = np.where((target1 == 'ate_abort') | (target2 >= 3),1,0)\n",
    "\n",
    "target1 = data['lifecycle:transition'].shift(2)\n",
    "target2 = data[\"iteration\"].shift(2)\n",
    "target_2 = np.where((target1 == 'ate_abort') | (target2 >= 3),1,0)"
   ]
  },
  {
   "cell_type": "code",
   "execution_count": 8,
   "metadata": {},
   "outputs": [],
   "source": [
    "def encode(db):\n",
    "    dtypes = list(zip(db.dtypes.index, map(str, db.dtypes)))\n",
    "    for k,dtype in dtypes:\n",
    "        if dtype == 'object':\n",
    "            db[k] = LabelEncoder().fit_transform(db[k])\n",
    "    return db.astype('float')"
   ]
  },
  {
   "cell_type": "code",
   "execution_count": 9,
   "metadata": {
    "execution": {
     "iopub.execute_input": "2022-11-07T10:39:47.939532Z",
     "iopub.status.busy": "2022-11-07T10:39:47.938748Z",
     "iopub.status.idle": "2022-11-07T10:39:50.665156Z",
     "shell.execute_reply": "2022-11-07T10:39:50.664279Z",
     "shell.execute_reply.started": "2022-11-07T10:39:47.939478Z"
    },
    "trusted": true
   },
   "outputs": [],
   "source": [
    "data = encode(data)"
   ]
  },
  {
   "cell_type": "code",
   "execution_count": 10,
   "metadata": {},
   "outputs": [],
   "source": [
    "target = np.where(( data['lifecycle:transition'] == 'ate_abort') | (data[\"iteration\"] >= 3),1,0)"
   ]
  },
  {
   "cell_type": "code",
   "execution_count": 11,
   "metadata": {},
   "outputs": [],
   "source": [
    "iter = data.pop(\"iteration\")"
   ]
  },
  {
   "cell_type": "code",
   "execution_count": 12,
   "metadata": {
    "execution": {
     "iopub.execute_input": "2022-11-07T10:39:50.760238Z",
     "iopub.status.busy": "2022-11-07T10:39:50.759893Z",
     "iopub.status.idle": "2022-11-07T10:39:50.973912Z",
     "shell.execute_reply": "2022-11-07T10:39:50.973163Z",
     "shell.execute_reply.started": "2022-11-07T10:39:50.760197Z"
    },
    "trusted": true
   },
   "outputs": [],
   "source": [
    "x_train, x_test, y_train, y_test = train_test_split(data,target,train_size=0.8,shuffle=False)"
   ]
  },
  {
   "cell_type": "code",
   "execution_count": 13,
   "metadata": {
    "execution": {
     "iopub.execute_input": "2022-11-07T10:39:50.975675Z",
     "iopub.status.busy": "2022-11-07T10:39:50.975418Z",
     "iopub.status.idle": "2022-11-07T10:39:50.981046Z",
     "shell.execute_reply": "2022-11-07T10:39:50.980234Z",
     "shell.execute_reply.started": "2022-11-07T10:39:50.975623Z"
    },
    "trusted": true
   },
   "outputs": [
    {
     "data": {
      "text/plain": [
       "(961813, 17)"
      ]
     },
     "execution_count": 13,
     "metadata": {},
     "output_type": "execute_result"
    }
   ],
   "source": [
    "x_train.shape"
   ]
  },
  {
   "cell_type": "code",
   "execution_count": 14,
   "metadata": {
    "execution": {
     "iopub.execute_input": "2022-11-07T10:39:50.982745Z",
     "iopub.status.busy": "2022-11-07T10:39:50.982313Z",
     "iopub.status.idle": "2022-11-07T10:39:51.011999Z",
     "shell.execute_reply": "2022-11-07T10:39:51.011218Z",
     "shell.execute_reply.started": "2022-11-07T10:39:50.982711Z"
    },
    "trusted": true
   },
   "outputs": [
    {
     "data": {
      "text/html": [
       "<div>\n",
       "<style scoped>\n",
       "    .dataframe tbody tr th:only-of-type {\n",
       "        vertical-align: middle;\n",
       "    }\n",
       "\n",
       "    .dataframe tbody tr th {\n",
       "        vertical-align: top;\n",
       "    }\n",
       "\n",
       "    .dataframe thead th {\n",
       "        text-align: right;\n",
       "    }\n",
       "</style>\n",
       "<table border=\"1\" class=\"dataframe\">\n",
       "  <thead>\n",
       "    <tr style=\"text-align: right;\">\n",
       "      <th></th>\n",
       "      <th>Action</th>\n",
       "      <th>org:resource</th>\n",
       "      <th>concept:name</th>\n",
       "      <th>EventOrigin</th>\n",
       "      <th>lifecycle:transition</th>\n",
       "      <th>case:LoanGoal</th>\n",
       "      <th>case:ApplicationType</th>\n",
       "      <th>case:concept:name</th>\n",
       "      <th>case:RequestedAmount</th>\n",
       "      <th>FirstWithdrawalAmount</th>\n",
       "      <th>NumberOfTerms</th>\n",
       "      <th>Accepted</th>\n",
       "      <th>MonthlyCost</th>\n",
       "      <th>Selected</th>\n",
       "      <th>CreditScore</th>\n",
       "      <th>OfferedAmount</th>\n",
       "      <th>OfferID</th>\n",
       "    </tr>\n",
       "  </thead>\n",
       "  <tbody>\n",
       "    <tr>\n",
       "      <th>0</th>\n",
       "      <td>0.0</td>\n",
       "      <td>0.0</td>\n",
       "      <td>4.0</td>\n",
       "      <td>0.0</td>\n",
       "      <td>1.0</td>\n",
       "      <td>5.0</td>\n",
       "      <td>1.0</td>\n",
       "      <td>25893.0</td>\n",
       "      <td>20000.0</td>\n",
       "      <td>20000.0</td>\n",
       "      <td>44.0</td>\n",
       "      <td>1.0</td>\n",
       "      <td>498.29</td>\n",
       "      <td>1.0</td>\n",
       "      <td>979.0</td>\n",
       "      <td>20000.0</td>\n",
       "      <td>10997.0</td>\n",
       "    </tr>\n",
       "    <tr>\n",
       "      <th>1</th>\n",
       "      <td>4.0</td>\n",
       "      <td>0.0</td>\n",
       "      <td>8.0</td>\n",
       "      <td>0.0</td>\n",
       "      <td>1.0</td>\n",
       "      <td>5.0</td>\n",
       "      <td>1.0</td>\n",
       "      <td>25893.0</td>\n",
       "      <td>20000.0</td>\n",
       "      <td>20000.0</td>\n",
       "      <td>44.0</td>\n",
       "      <td>1.0</td>\n",
       "      <td>498.29</td>\n",
       "      <td>1.0</td>\n",
       "      <td>979.0</td>\n",
       "      <td>20000.0</td>\n",
       "      <td>10997.0</td>\n",
       "    </tr>\n",
       "    <tr>\n",
       "      <th>2</th>\n",
       "      <td>0.0</td>\n",
       "      <td>0.0</td>\n",
       "      <td>22.0</td>\n",
       "      <td>2.0</td>\n",
       "      <td>3.0</td>\n",
       "      <td>5.0</td>\n",
       "      <td>1.0</td>\n",
       "      <td>25893.0</td>\n",
       "      <td>20000.0</td>\n",
       "      <td>20000.0</td>\n",
       "      <td>44.0</td>\n",
       "      <td>1.0</td>\n",
       "      <td>498.29</td>\n",
       "      <td>1.0</td>\n",
       "      <td>979.0</td>\n",
       "      <td>20000.0</td>\n",
       "      <td>10997.0</td>\n",
       "    </tr>\n",
       "    <tr>\n",
       "      <th>3</th>\n",
       "      <td>1.0</td>\n",
       "      <td>0.0</td>\n",
       "      <td>22.0</td>\n",
       "      <td>2.0</td>\n",
       "      <td>6.0</td>\n",
       "      <td>5.0</td>\n",
       "      <td>1.0</td>\n",
       "      <td>25893.0</td>\n",
       "      <td>20000.0</td>\n",
       "      <td>20000.0</td>\n",
       "      <td>44.0</td>\n",
       "      <td>1.0</td>\n",
       "      <td>498.29</td>\n",
       "      <td>1.0</td>\n",
       "      <td>979.0</td>\n",
       "      <td>20000.0</td>\n",
       "      <td>10997.0</td>\n",
       "    </tr>\n",
       "    <tr>\n",
       "      <th>4</th>\n",
       "      <td>0.0</td>\n",
       "      <td>0.0</td>\n",
       "      <td>21.0</td>\n",
       "      <td>2.0</td>\n",
       "      <td>3.0</td>\n",
       "      <td>5.0</td>\n",
       "      <td>1.0</td>\n",
       "      <td>25893.0</td>\n",
       "      <td>20000.0</td>\n",
       "      <td>20000.0</td>\n",
       "      <td>44.0</td>\n",
       "      <td>1.0</td>\n",
       "      <td>498.29</td>\n",
       "      <td>1.0</td>\n",
       "      <td>979.0</td>\n",
       "      <td>20000.0</td>\n",
       "      <td>10997.0</td>\n",
       "    </tr>\n",
       "  </tbody>\n",
       "</table>\n",
       "</div>"
      ],
      "text/plain": [
       "   Action  org:resource  concept:name  EventOrigin  lifecycle:transition  \\\n",
       "0     0.0           0.0           4.0          0.0                   1.0   \n",
       "1     4.0           0.0           8.0          0.0                   1.0   \n",
       "2     0.0           0.0          22.0          2.0                   3.0   \n",
       "3     1.0           0.0          22.0          2.0                   6.0   \n",
       "4     0.0           0.0          21.0          2.0                   3.0   \n",
       "\n",
       "   case:LoanGoal  case:ApplicationType  case:concept:name  \\\n",
       "0            5.0                   1.0            25893.0   \n",
       "1            5.0                   1.0            25893.0   \n",
       "2            5.0                   1.0            25893.0   \n",
       "3            5.0                   1.0            25893.0   \n",
       "4            5.0                   1.0            25893.0   \n",
       "\n",
       "   case:RequestedAmount  FirstWithdrawalAmount  NumberOfTerms  Accepted  \\\n",
       "0               20000.0                20000.0           44.0       1.0   \n",
       "1               20000.0                20000.0           44.0       1.0   \n",
       "2               20000.0                20000.0           44.0       1.0   \n",
       "3               20000.0                20000.0           44.0       1.0   \n",
       "4               20000.0                20000.0           44.0       1.0   \n",
       "\n",
       "   MonthlyCost  Selected  CreditScore  OfferedAmount  OfferID  \n",
       "0       498.29       1.0        979.0        20000.0  10997.0  \n",
       "1       498.29       1.0        979.0        20000.0  10997.0  \n",
       "2       498.29       1.0        979.0        20000.0  10997.0  \n",
       "3       498.29       1.0        979.0        20000.0  10997.0  \n",
       "4       498.29       1.0        979.0        20000.0  10997.0  "
      ]
     },
     "execution_count": 14,
     "metadata": {},
     "output_type": "execute_result"
    }
   ],
   "source": [
    "x_train.head()"
   ]
  },
  {
   "cell_type": "code",
   "execution_count": 13,
   "metadata": {
    "execution": {
     "iopub.execute_input": "2022-11-07T10:39:51.013597Z",
     "iopub.status.busy": "2022-11-07T10:39:51.013360Z",
     "iopub.status.idle": "2022-11-07T10:39:51.022080Z",
     "shell.execute_reply": "2022-11-07T10:39:51.021419Z",
     "shell.execute_reply.started": "2022-11-07T10:39:51.013566Z"
    },
    "trusted": true
   },
   "outputs": [],
   "source": [
    "from tensorflow.keras.callbacks import EarlyStopping\n",
    "early = EarlyStopping(min_delta = 0.001, patience=12, restore_best_weights=True)"
   ]
  },
  {
   "cell_type": "code",
   "execution_count": 16,
   "metadata": {
    "execution": {
     "iopub.execute_input": "2022-11-07T10:39:51.023559Z",
     "iopub.status.busy": "2022-11-07T10:39:51.023205Z",
     "iopub.status.idle": "2022-11-07T10:39:51.036202Z",
     "shell.execute_reply": "2022-11-07T10:39:51.035501Z",
     "shell.execute_reply.started": "2022-11-07T10:39:51.023525Z"
    },
    "trusted": true
   },
   "outputs": [
    {
     "data": {
      "text/plain": [
       "(1202267, 17)"
      ]
     },
     "execution_count": 16,
     "metadata": {},
     "output_type": "execute_result"
    }
   ],
   "source": [
    "data.shape"
   ]
  },
  {
   "cell_type": "code",
   "execution_count": 22,
   "metadata": {},
   "outputs": [],
   "source": [
    "def model_builder(hp):\n",
    "  model = keras.Sequential()\n",
    "\n",
    "  # Tune the number of units in the first Dense layer\n",
    "  # Choose an optimal value between 32-512\n",
    "  hp_units1 = hp.Int('units', min_value=32, max_value=512, step=32)\n",
    "  hp_units2 = hp.Int('units', min_value=32, max_value=512, step=32)\n",
    "  hp_units3 = hp.Int('units', min_value=32, max_value=512, step=32)\n",
    "  hp_units4 = hp.Int('units', min_value=32, max_value=512, step=32)\n",
    "  hp_hidden_activation1 = hp.Choice('activition', values=['relu','tanh'])\n",
    "  hp_hidden_activation2 = hp.Choice('activition', values=['relu','tanh'])\n",
    "  hp_hidden_activation3 = hp.Choice('activition', values=['relu','tanh'])\n",
    "  hp_hidden_activation4 = hp.Choice('activition', values=['relu','tanh'])\n",
    "  hp_dense_activation = hp.Choice('activation', values=['softmax','sigmoid'])\n",
    "  \n",
    "  \n",
    "  model.add(tf.keras.layers.Reshape((17,-1),input_shape=(17,)))\n",
    "  model.add(layers.GRU(hp_units1,return_sequences=True))\n",
    "  model.add(tf.keras.layers.Dropout(0.2))\n",
    "  model.add(tf.keras.layers.BatchNormalization())\n",
    "\n",
    "  model.add(layers.SimpleRNN(hp_units2, return_sequences=True))\n",
    "  model.add(tf.keras.layers.Dropout(0.2))\n",
    "  model.add(tf.keras.layers.BatchNormalization())\n",
    "\n",
    "  model.add(layers.LSTM(hp_units3, return_sequences=True))\n",
    "  model.add(layers.MaxPooling1D())\n",
    "  model.add(tf.keras.layers.Dropout(0.2))\n",
    "  model.add(tf.keras.layers.BatchNormalization())\n",
    "      \n",
    "  model.add(layers.Flatten())\n",
    "  model.add(layers.Dense(hp_units4, activation=hp_hidden_activation4))\n",
    "  model.add(tf.keras.layers.Dropout(0.2))\n",
    "  model.add(tf.keras.layers.BatchNormalization())\n",
    "\n",
    "  model.add(tf.keras.layers.Dense(1,activation = hp_dense_activation))\n",
    "\n",
    "  # Tune the learning rate for the optimizer\n",
    "  # Choose an optimal value from 0.01, 0.001, or 0.0001\n",
    "  hp_learning_rate = hp.Choice('learning_rate', values=[1e-2, 1e-3, 1e-4])\n",
    "\n",
    "  model.compile(optimizer=keras.optimizers.Adam(learning_rate=hp_learning_rate),\n",
    "                loss=tf.keras.losses.BinaryCrossentropy(),\n",
    "                metrics=['accuracy'])\n",
    "\n",
    "  return model"
   ]
  },
  {
   "cell_type": "code",
   "execution_count": 49,
   "metadata": {
    "execution": {
     "iopub.execute_input": "2022-11-07T10:39:51.037931Z",
     "iopub.status.busy": "2022-11-07T10:39:51.037632Z",
     "iopub.status.idle": "2022-11-07T10:39:57.516557Z",
     "shell.execute_reply": "2022-11-07T10:39:57.515866Z",
     "shell.execute_reply.started": "2022-11-07T10:39:51.037894Z"
    },
    "trusted": true
   },
   "outputs": [
    {
     "name": "stderr",
     "output_type": "stream",
     "text": [
      "/home/modzo/miniconda3/lib/python3.11/site-packages/keras/src/layers/reshaping/reshape.py:39: UserWarning: Do not pass an `input_shape`/`input_dim` argument to a layer. When using Sequential models, prefer using an `Input(shape)` object as the first layer in the model instead.\n",
      "  super().__init__(**kwargs)\n"
     ]
    }
   ],
   "source": [
    "model = tf.keras.models.Sequential([\n",
    "    # tf.keras.layers.Embedding(input_dim=961813, output_dim = 128, input_length=17),\n",
    "    # tf.keras.layers.Dropout(0.2),\n",
    "    # tf.keras.layers.BatchNormalization(),\n",
    "    tf.keras.layers.Reshape((17,-1),input_shape=(17,)),\n",
    "    tf.keras.layers.GRU(64, return_sequences=True),\n",
    "    tf.keras.layers.Dropout(0.2),\n",
    "    tf.keras.layers.BatchNormalization(),\n",
    "    \n",
    "    tf.keras.layers.SimpleRNN(32, return_sequences=True),\n",
    "    tf.keras.layers.Dropout(0.2),\n",
    "    tf.keras.layers.BatchNormalization(),\n",
    "    \n",
    "    tf.keras.layers.LSTM(32, return_sequences=True),\n",
    "    tf.keras.layers.Dropout(0.2),\n",
    "    tf.keras.layers.BatchNormalization(),    \n",
    "\n",
    "    tf.keras.layers.Flatten(),  \n",
    "    tf.keras.layers.Dense(64,activation = 'relu'),\n",
    "\n",
    "    tf.keras.layers.Dense(1, activation='sigmoid'),\n",
    "])"
   ]
  },
  {
   "cell_type": "code",
   "execution_count": 50,
   "metadata": {
    "execution": {
     "iopub.execute_input": "2022-11-07T10:39:57.519012Z",
     "iopub.status.busy": "2022-11-07T10:39:57.518597Z",
     "iopub.status.idle": "2022-11-07T10:39:57.531719Z",
     "shell.execute_reply": "2022-11-07T10:39:57.531029Z",
     "shell.execute_reply.started": "2022-11-07T10:39:57.518974Z"
    },
    "trusted": true
   },
   "outputs": [],
   "source": [
    "model.compile(optimizer='adam',\n",
    "              loss = tf.keras.losses.BinaryCrossentropy(),\n",
    "              metrics = ['accuracy']\n",
    "             )"
   ]
  },
  {
   "cell_type": "code",
   "execution_count": 51,
   "metadata": {
    "execution": {
     "iopub.execute_input": "2022-11-07T10:39:57.533140Z",
     "iopub.status.busy": "2022-11-07T10:39:57.532893Z",
     "iopub.status.idle": "2022-11-07T10:39:57.547317Z",
     "shell.execute_reply": "2022-11-07T10:39:57.546538Z",
     "shell.execute_reply.started": "2022-11-07T10:39:57.533106Z"
    },
    "trusted": true
   },
   "outputs": [
    {
     "data": {
      "text/html": [
       "<pre style=\"white-space:pre;overflow-x:auto;line-height:normal;font-family:Menlo,'DejaVu Sans Mono',consolas,'Courier New',monospace\"><span style=\"font-weight: bold\">Model: \"sequential_5\"</span>\n",
       "</pre>\n"
      ],
      "text/plain": [
       "\u001b[1mModel: \"sequential_5\"\u001b[0m\n"
      ]
     },
     "metadata": {},
     "output_type": "display_data"
    },
    {
     "data": {
      "text/html": [
       "<pre style=\"white-space:pre;overflow-x:auto;line-height:normal;font-family:Menlo,'DejaVu Sans Mono',consolas,'Courier New',monospace\">┏━━━━━━━━━━━━━━━━━━━━━━━━━━━━━━━━━┳━━━━━━━━━━━━━━━━━━━━━━━━┳━━━━━━━━━━━━━━━┓\n",
       "┃<span style=\"font-weight: bold\"> Layer (type)                    </span>┃<span style=\"font-weight: bold\"> Output Shape           </span>┃<span style=\"font-weight: bold\">       Param # </span>┃\n",
       "┡━━━━━━━━━━━━━━━━━━━━━━━━━━━━━━━━━╇━━━━━━━━━━━━━━━━━━━━━━━━╇━━━━━━━━━━━━━━━┩\n",
       "│ reshape_2 (<span style=\"color: #0087ff; text-decoration-color: #0087ff\">Reshape</span>)             │ (<span style=\"color: #00d7ff; text-decoration-color: #00d7ff\">None</span>, <span style=\"color: #00af00; text-decoration-color: #00af00\">17</span>, <span style=\"color: #00af00; text-decoration-color: #00af00\">1</span>)          │             <span style=\"color: #00af00; text-decoration-color: #00af00\">0</span> │\n",
       "├─────────────────────────────────┼────────────────────────┼───────────────┤\n",
       "│ gru_5 (<span style=\"color: #0087ff; text-decoration-color: #0087ff\">GRU</span>)                     │ (<span style=\"color: #00d7ff; text-decoration-color: #00d7ff\">None</span>, <span style=\"color: #00af00; text-decoration-color: #00af00\">17</span>, <span style=\"color: #00af00; text-decoration-color: #00af00\">64</span>)         │        <span style=\"color: #00af00; text-decoration-color: #00af00\">12,864</span> │\n",
       "├─────────────────────────────────┼────────────────────────┼───────────────┤\n",
       "│ dropout_16 (<span style=\"color: #0087ff; text-decoration-color: #0087ff\">Dropout</span>)            │ (<span style=\"color: #00d7ff; text-decoration-color: #00d7ff\">None</span>, <span style=\"color: #00af00; text-decoration-color: #00af00\">17</span>, <span style=\"color: #00af00; text-decoration-color: #00af00\">64</span>)         │             <span style=\"color: #00af00; text-decoration-color: #00af00\">0</span> │\n",
       "├─────────────────────────────────┼────────────────────────┼───────────────┤\n",
       "│ batch_normalization_16          │ (<span style=\"color: #00d7ff; text-decoration-color: #00d7ff\">None</span>, <span style=\"color: #00af00; text-decoration-color: #00af00\">17</span>, <span style=\"color: #00af00; text-decoration-color: #00af00\">64</span>)         │           <span style=\"color: #00af00; text-decoration-color: #00af00\">256</span> │\n",
       "│ (<span style=\"color: #0087ff; text-decoration-color: #0087ff\">BatchNormalization</span>)            │                        │               │\n",
       "├─────────────────────────────────┼────────────────────────┼───────────────┤\n",
       "│ simple_rnn_5 (<span style=\"color: #0087ff; text-decoration-color: #0087ff\">SimpleRNN</span>)        │ (<span style=\"color: #00d7ff; text-decoration-color: #00d7ff\">None</span>, <span style=\"color: #00af00; text-decoration-color: #00af00\">17</span>, <span style=\"color: #00af00; text-decoration-color: #00af00\">32</span>)         │         <span style=\"color: #00af00; text-decoration-color: #00af00\">3,104</span> │\n",
       "├─────────────────────────────────┼────────────────────────┼───────────────┤\n",
       "│ dropout_17 (<span style=\"color: #0087ff; text-decoration-color: #0087ff\">Dropout</span>)            │ (<span style=\"color: #00d7ff; text-decoration-color: #00d7ff\">None</span>, <span style=\"color: #00af00; text-decoration-color: #00af00\">17</span>, <span style=\"color: #00af00; text-decoration-color: #00af00\">32</span>)         │             <span style=\"color: #00af00; text-decoration-color: #00af00\">0</span> │\n",
       "├─────────────────────────────────┼────────────────────────┼───────────────┤\n",
       "│ batch_normalization_17          │ (<span style=\"color: #00d7ff; text-decoration-color: #00d7ff\">None</span>, <span style=\"color: #00af00; text-decoration-color: #00af00\">17</span>, <span style=\"color: #00af00; text-decoration-color: #00af00\">32</span>)         │           <span style=\"color: #00af00; text-decoration-color: #00af00\">128</span> │\n",
       "│ (<span style=\"color: #0087ff; text-decoration-color: #0087ff\">BatchNormalization</span>)            │                        │               │\n",
       "├─────────────────────────────────┼────────────────────────┼───────────────┤\n",
       "│ lstm_5 (<span style=\"color: #0087ff; text-decoration-color: #0087ff\">LSTM</span>)                   │ (<span style=\"color: #00d7ff; text-decoration-color: #00d7ff\">None</span>, <span style=\"color: #00af00; text-decoration-color: #00af00\">17</span>, <span style=\"color: #00af00; text-decoration-color: #00af00\">32</span>)         │         <span style=\"color: #00af00; text-decoration-color: #00af00\">8,320</span> │\n",
       "├─────────────────────────────────┼────────────────────────┼───────────────┤\n",
       "│ dropout_18 (<span style=\"color: #0087ff; text-decoration-color: #0087ff\">Dropout</span>)            │ (<span style=\"color: #00d7ff; text-decoration-color: #00d7ff\">None</span>, <span style=\"color: #00af00; text-decoration-color: #00af00\">17</span>, <span style=\"color: #00af00; text-decoration-color: #00af00\">32</span>)         │             <span style=\"color: #00af00; text-decoration-color: #00af00\">0</span> │\n",
       "├─────────────────────────────────┼────────────────────────┼───────────────┤\n",
       "│ batch_normalization_18          │ (<span style=\"color: #00d7ff; text-decoration-color: #00d7ff\">None</span>, <span style=\"color: #00af00; text-decoration-color: #00af00\">17</span>, <span style=\"color: #00af00; text-decoration-color: #00af00\">32</span>)         │           <span style=\"color: #00af00; text-decoration-color: #00af00\">128</span> │\n",
       "│ (<span style=\"color: #0087ff; text-decoration-color: #0087ff\">BatchNormalization</span>)            │                        │               │\n",
       "├─────────────────────────────────┼────────────────────────┼───────────────┤\n",
       "│ flatten_5 (<span style=\"color: #0087ff; text-decoration-color: #0087ff\">Flatten</span>)             │ (<span style=\"color: #00d7ff; text-decoration-color: #00d7ff\">None</span>, <span style=\"color: #00af00; text-decoration-color: #00af00\">544</span>)            │             <span style=\"color: #00af00; text-decoration-color: #00af00\">0</span> │\n",
       "├─────────────────────────────────┼────────────────────────┼───────────────┤\n",
       "│ dense_10 (<span style=\"color: #0087ff; text-decoration-color: #0087ff\">Dense</span>)                │ (<span style=\"color: #00d7ff; text-decoration-color: #00d7ff\">None</span>, <span style=\"color: #00af00; text-decoration-color: #00af00\">64</span>)             │        <span style=\"color: #00af00; text-decoration-color: #00af00\">34,880</span> │\n",
       "├─────────────────────────────────┼────────────────────────┼───────────────┤\n",
       "│ dense_11 (<span style=\"color: #0087ff; text-decoration-color: #0087ff\">Dense</span>)                │ (<span style=\"color: #00d7ff; text-decoration-color: #00d7ff\">None</span>, <span style=\"color: #00af00; text-decoration-color: #00af00\">1</span>)              │            <span style=\"color: #00af00; text-decoration-color: #00af00\">65</span> │\n",
       "└─────────────────────────────────┴────────────────────────┴───────────────┘\n",
       "</pre>\n"
      ],
      "text/plain": [
       "┏━━━━━━━━━━━━━━━━━━━━━━━━━━━━━━━━━┳━━━━━━━━━━━━━━━━━━━━━━━━┳━━━━━━━━━━━━━━━┓\n",
       "┃\u001b[1m \u001b[0m\u001b[1mLayer (type)                   \u001b[0m\u001b[1m \u001b[0m┃\u001b[1m \u001b[0m\u001b[1mOutput Shape          \u001b[0m\u001b[1m \u001b[0m┃\u001b[1m \u001b[0m\u001b[1m      Param #\u001b[0m\u001b[1m \u001b[0m┃\n",
       "┡━━━━━━━━━━━━━━━━━━━━━━━━━━━━━━━━━╇━━━━━━━━━━━━━━━━━━━━━━━━╇━━━━━━━━━━━━━━━┩\n",
       "│ reshape_2 (\u001b[38;5;33mReshape\u001b[0m)             │ (\u001b[38;5;45mNone\u001b[0m, \u001b[38;5;34m17\u001b[0m, \u001b[38;5;34m1\u001b[0m)          │             \u001b[38;5;34m0\u001b[0m │\n",
       "├─────────────────────────────────┼────────────────────────┼───────────────┤\n",
       "│ gru_5 (\u001b[38;5;33mGRU\u001b[0m)                     │ (\u001b[38;5;45mNone\u001b[0m, \u001b[38;5;34m17\u001b[0m, \u001b[38;5;34m64\u001b[0m)         │        \u001b[38;5;34m12,864\u001b[0m │\n",
       "├─────────────────────────────────┼────────────────────────┼───────────────┤\n",
       "│ dropout_16 (\u001b[38;5;33mDropout\u001b[0m)            │ (\u001b[38;5;45mNone\u001b[0m, \u001b[38;5;34m17\u001b[0m, \u001b[38;5;34m64\u001b[0m)         │             \u001b[38;5;34m0\u001b[0m │\n",
       "├─────────────────────────────────┼────────────────────────┼───────────────┤\n",
       "│ batch_normalization_16          │ (\u001b[38;5;45mNone\u001b[0m, \u001b[38;5;34m17\u001b[0m, \u001b[38;5;34m64\u001b[0m)         │           \u001b[38;5;34m256\u001b[0m │\n",
       "│ (\u001b[38;5;33mBatchNormalization\u001b[0m)            │                        │               │\n",
       "├─────────────────────────────────┼────────────────────────┼───────────────┤\n",
       "│ simple_rnn_5 (\u001b[38;5;33mSimpleRNN\u001b[0m)        │ (\u001b[38;5;45mNone\u001b[0m, \u001b[38;5;34m17\u001b[0m, \u001b[38;5;34m32\u001b[0m)         │         \u001b[38;5;34m3,104\u001b[0m │\n",
       "├─────────────────────────────────┼────────────────────────┼───────────────┤\n",
       "│ dropout_17 (\u001b[38;5;33mDropout\u001b[0m)            │ (\u001b[38;5;45mNone\u001b[0m, \u001b[38;5;34m17\u001b[0m, \u001b[38;5;34m32\u001b[0m)         │             \u001b[38;5;34m0\u001b[0m │\n",
       "├─────────────────────────────────┼────────────────────────┼───────────────┤\n",
       "│ batch_normalization_17          │ (\u001b[38;5;45mNone\u001b[0m, \u001b[38;5;34m17\u001b[0m, \u001b[38;5;34m32\u001b[0m)         │           \u001b[38;5;34m128\u001b[0m │\n",
       "│ (\u001b[38;5;33mBatchNormalization\u001b[0m)            │                        │               │\n",
       "├─────────────────────────────────┼────────────────────────┼───────────────┤\n",
       "│ lstm_5 (\u001b[38;5;33mLSTM\u001b[0m)                   │ (\u001b[38;5;45mNone\u001b[0m, \u001b[38;5;34m17\u001b[0m, \u001b[38;5;34m32\u001b[0m)         │         \u001b[38;5;34m8,320\u001b[0m │\n",
       "├─────────────────────────────────┼────────────────────────┼───────────────┤\n",
       "│ dropout_18 (\u001b[38;5;33mDropout\u001b[0m)            │ (\u001b[38;5;45mNone\u001b[0m, \u001b[38;5;34m17\u001b[0m, \u001b[38;5;34m32\u001b[0m)         │             \u001b[38;5;34m0\u001b[0m │\n",
       "├─────────────────────────────────┼────────────────────────┼───────────────┤\n",
       "│ batch_normalization_18          │ (\u001b[38;5;45mNone\u001b[0m, \u001b[38;5;34m17\u001b[0m, \u001b[38;5;34m32\u001b[0m)         │           \u001b[38;5;34m128\u001b[0m │\n",
       "│ (\u001b[38;5;33mBatchNormalization\u001b[0m)            │                        │               │\n",
       "├─────────────────────────────────┼────────────────────────┼───────────────┤\n",
       "│ flatten_5 (\u001b[38;5;33mFlatten\u001b[0m)             │ (\u001b[38;5;45mNone\u001b[0m, \u001b[38;5;34m544\u001b[0m)            │             \u001b[38;5;34m0\u001b[0m │\n",
       "├─────────────────────────────────┼────────────────────────┼───────────────┤\n",
       "│ dense_10 (\u001b[38;5;33mDense\u001b[0m)                │ (\u001b[38;5;45mNone\u001b[0m, \u001b[38;5;34m64\u001b[0m)             │        \u001b[38;5;34m34,880\u001b[0m │\n",
       "├─────────────────────────────────┼────────────────────────┼───────────────┤\n",
       "│ dense_11 (\u001b[38;5;33mDense\u001b[0m)                │ (\u001b[38;5;45mNone\u001b[0m, \u001b[38;5;34m1\u001b[0m)              │            \u001b[38;5;34m65\u001b[0m │\n",
       "└─────────────────────────────────┴────────────────────────┴───────────────┘\n"
      ]
     },
     "metadata": {},
     "output_type": "display_data"
    },
    {
     "data": {
      "text/html": [
       "<pre style=\"white-space:pre;overflow-x:auto;line-height:normal;font-family:Menlo,'DejaVu Sans Mono',consolas,'Courier New',monospace\"><span style=\"font-weight: bold\"> Total params: </span><span style=\"color: #00af00; text-decoration-color: #00af00\">59,745</span> (233.38 KB)\n",
       "</pre>\n"
      ],
      "text/plain": [
       "\u001b[1m Total params: \u001b[0m\u001b[38;5;34m59,745\u001b[0m (233.38 KB)\n"
      ]
     },
     "metadata": {},
     "output_type": "display_data"
    },
    {
     "data": {
      "text/html": [
       "<pre style=\"white-space:pre;overflow-x:auto;line-height:normal;font-family:Menlo,'DejaVu Sans Mono',consolas,'Courier New',monospace\"><span style=\"font-weight: bold\"> Trainable params: </span><span style=\"color: #00af00; text-decoration-color: #00af00\">59,489</span> (232.38 KB)\n",
       "</pre>\n"
      ],
      "text/plain": [
       "\u001b[1m Trainable params: \u001b[0m\u001b[38;5;34m59,489\u001b[0m (232.38 KB)\n"
      ]
     },
     "metadata": {},
     "output_type": "display_data"
    },
    {
     "data": {
      "text/html": [
       "<pre style=\"white-space:pre;overflow-x:auto;line-height:normal;font-family:Menlo,'DejaVu Sans Mono',consolas,'Courier New',monospace\"><span style=\"font-weight: bold\"> Non-trainable params: </span><span style=\"color: #00af00; text-decoration-color: #00af00\">256</span> (1.00 KB)\n",
       "</pre>\n"
      ],
      "text/plain": [
       "\u001b[1m Non-trainable params: \u001b[0m\u001b[38;5;34m256\u001b[0m (1.00 KB)\n"
      ]
     },
     "metadata": {},
     "output_type": "display_data"
    }
   ],
   "source": [
    "model.summary()"
   ]
  },
  {
   "cell_type": "code",
   "execution_count": 52,
   "metadata": {
    "execution": {
     "iopub.execute_input": "2022-11-07T10:40:08.509728Z",
     "iopub.status.busy": "2022-11-07T10:40:08.508571Z",
     "iopub.status.idle": "2022-11-07T10:40:08.749464Z",
     "shell.execute_reply": "2022-11-07T10:40:08.748678Z",
     "shell.execute_reply.started": "2022-11-07T10:40:08.509678Z"
    },
    "trusted": true
   },
   "outputs": [],
   "source": [
    "db = tf.reshape(data,(-1,17,1))"
   ]
  },
  {
   "cell_type": "code",
   "execution_count": 53,
   "metadata": {},
   "outputs": [],
   "source": [
    "from tensorflow.keras.utils import to_categorical\n",
    "\n",
    "# Convert integer labels to one-hot encoding\n",
    "y_train_one_hot = to_categorical(y_train, num_classes=17)"
   ]
  },
  {
   "cell_type": "code",
   "execution_count": 54,
   "metadata": {},
   "outputs": [
    {
     "data": {
      "text/plain": [
       "Index([     0,      1,      2,      3,      4,      5,      6,      7,      8,\n",
       "            9,\n",
       "       ...\n",
       "       961803, 961804, 961805, 961806, 961807, 961808, 961809, 961810, 961811,\n",
       "       961812],\n",
       "      dtype='int64', length=961813)"
      ]
     },
     "execution_count": 54,
     "metadata": {},
     "output_type": "execute_result"
    }
   ],
   "source": [
    "x_train.index"
   ]
  },
  {
   "cell_type": "code",
   "execution_count": 23,
   "metadata": {},
   "outputs": [],
   "source": [
    "tuner = kt.Hyperband(model_builder,\n",
    "                     objective='val_accuracy',\n",
    "                     max_epochs=10,\n",
    "                     factor=3,\n",
    "                     directory='my_dir',\n",
    "                     project_name='kt_lstm')"
   ]
  },
  {
   "cell_type": "code",
   "execution_count": 24,
   "metadata": {},
   "outputs": [
    {
     "name": "stdout",
     "output_type": "stream",
     "text": [
      "Num GPUs Available:  1\n"
     ]
    }
   ],
   "source": [
    "import tensorflow as tf\n",
    "print(\"Num GPUs Available: \", len(tf.config.list_physical_devices('GPU')))"
   ]
  },
  {
   "cell_type": "code",
   "execution_count": 25,
   "metadata": {},
   "outputs": [],
   "source": [
    "sm_train,sm_test,sy_train,sy_test = train_test_split(x_train,y_train,train_size=0.1,shuffle=False)\n",
    "stop_early = tf.keras.callbacks.EarlyStopping(monitor='val_loss', patience=5)"
   ]
  },
  {
   "cell_type": "code",
   "execution_count": 26,
   "metadata": {},
   "outputs": [
    {
     "name": "stdout",
     "output_type": "stream",
     "text": [
      "Trial 30 Complete [00h 14m 19s]\n",
      "val_accuracy: 0.46426159143447876\n",
      "\n",
      "Best val_accuracy So Far: 0.963351845741272\n",
      "Total elapsed time: 03h 38m 21s\n"
     ]
    }
   ],
   "source": [
    "tuner.search(sm_train, sy_train, epochs=50, validation_split=0.2, callbacks=[stop_early])\n",
    "\n",
    "# Get the optimal hyperparameters\n",
    "best_hps=tuner.get_best_hyperparameters(num_trials=1)[0]"
   ]
  },
  {
   "cell_type": "code",
   "execution_count": 27,
   "metadata": {},
   "outputs": [
    {
     "name": "stderr",
     "output_type": "stream",
     "text": [
      "/home/modzo/miniconda3/lib/python3.11/site-packages/keras/src/layers/reshaping/reshape.py:39: UserWarning: Do not pass an `input_shape`/`input_dim` argument to a layer. When using Sequential models, prefer using an `Input(shape)` object as the first layer in the model instead.\n",
      "  super().__init__(**kwargs)\n"
     ]
    }
   ],
   "source": [
    "model_rnn= tuner.hypermodel.build(best_hps)"
   ]
  },
  {
   "cell_type": "code",
   "execution_count": 28,
   "metadata": {
    "execution": {
     "iopub.execute_input": "2022-11-07T10:40:17.260778Z",
     "iopub.status.busy": "2022-11-07T10:40:17.260508Z",
     "iopub.status.idle": "2022-11-07T10:40:57.350042Z",
     "shell.execute_reply": "2022-11-07T10:40:57.348761Z",
     "shell.execute_reply.started": "2022-11-07T10:40:17.260747Z"
    },
    "trusted": true
   },
   "outputs": [
    {
     "name": "stdout",
     "output_type": "stream",
     "text": [
      "Epoch 1/100\n",
      "\u001b[1m3006/3006\u001b[0m \u001b[32m━━━━━━━━━━━━━━━━━━━━\u001b[0m\u001b[37m\u001b[0m \u001b[1m142s\u001b[0m 45ms/step - accuracy: 0.8821 - loss: 0.2795 - val_accuracy: 0.9439 - val_loss: 0.1483\n",
      "Epoch 2/100\n",
      "\u001b[1m3006/3006\u001b[0m \u001b[32m━━━━━━━━━━━━━━━━━━━━\u001b[0m\u001b[37m\u001b[0m \u001b[1m137s\u001b[0m 46ms/step - accuracy: 0.9497 - loss: 0.1334 - val_accuracy: 0.9460 - val_loss: 0.1367\n",
      "Epoch 3/100\n",
      "\u001b[1m3006/3006\u001b[0m \u001b[32m━━━━━━━━━━━━━━━━━━━━\u001b[0m\u001b[37m\u001b[0m \u001b[1m139s\u001b[0m 46ms/step - accuracy: 0.9504 - loss: 0.1304 - val_accuracy: 0.9461 - val_loss: 0.1334\n",
      "Epoch 4/100\n",
      "\u001b[1m3006/3006\u001b[0m \u001b[32m━━━━━━━━━━━━━━━━━━━━\u001b[0m\u001b[37m\u001b[0m \u001b[1m134s\u001b[0m 45ms/step - accuracy: 0.9511 - loss: 0.1252 - val_accuracy: 0.9468 - val_loss: 0.1218\n",
      "Epoch 5/100\n",
      "\u001b[1m3006/3006\u001b[0m \u001b[32m━━━━━━━━━━━━━━━━━━━━\u001b[0m\u001b[37m\u001b[0m \u001b[1m138s\u001b[0m 46ms/step - accuracy: 0.9506 - loss: 0.1195 - val_accuracy: 0.9469 - val_loss: 0.1190\n",
      "Epoch 6/100\n",
      "\u001b[1m3006/3006\u001b[0m \u001b[32m━━━━━━━━━━━━━━━━━━━━\u001b[0m\u001b[37m\u001b[0m \u001b[1m133s\u001b[0m 44ms/step - accuracy: 0.9511 - loss: 0.1177 - val_accuracy: 0.9470 - val_loss: 0.1187\n",
      "Epoch 7/100\n",
      "\u001b[1m3006/3006\u001b[0m \u001b[32m━━━━━━━━━━━━━━━━━━━━\u001b[0m\u001b[37m\u001b[0m \u001b[1m139s\u001b[0m 46ms/step - accuracy: 0.9515 - loss: 0.1157 - val_accuracy: 0.9466 - val_loss: 0.1221\n",
      "Epoch 8/100\n",
      "\u001b[1m3006/3006\u001b[0m \u001b[32m━━━━━━━━━━━━━━━━━━━━\u001b[0m\u001b[37m\u001b[0m \u001b[1m139s\u001b[0m 46ms/step - accuracy: 0.9525 - loss: 0.1137 - val_accuracy: 0.9465 - val_loss: 0.1297\n",
      "Epoch 9/100\n",
      "\u001b[1m3006/3006\u001b[0m \u001b[32m━━━━━━━━━━━━━━━━━━━━\u001b[0m\u001b[37m\u001b[0m \u001b[1m135s\u001b[0m 45ms/step - accuracy: 0.9519 - loss: 0.1139 - val_accuracy: 0.9457 - val_loss: 0.1238\n",
      "Epoch 10/100\n",
      "\u001b[1m3006/3006\u001b[0m \u001b[32m━━━━━━━━━━━━━━━━━━━━\u001b[0m\u001b[37m\u001b[0m \u001b[1m136s\u001b[0m 45ms/step - accuracy: 0.9521 - loss: 0.1132 - val_accuracy: 0.9466 - val_loss: 0.1196\n",
      "Epoch 11/100\n",
      "\u001b[1m3006/3006\u001b[0m \u001b[32m━━━━━━━━━━━━━━━━━━━━\u001b[0m\u001b[37m\u001b[0m \u001b[1m135s\u001b[0m 45ms/step - accuracy: 0.9524 - loss: 0.1123 - val_accuracy: 0.9475 - val_loss: 0.1209\n",
      "Epoch 12/100\n",
      "\u001b[1m3006/3006\u001b[0m \u001b[32m━━━━━━━━━━━━━━━━━━━━\u001b[0m\u001b[37m\u001b[0m \u001b[1m148s\u001b[0m 47ms/step - accuracy: 0.9524 - loss: 0.1120 - val_accuracy: 0.9460 - val_loss: 0.1242\n",
      "Epoch 13/100\n",
      "\u001b[1m3006/3006\u001b[0m \u001b[32m━━━━━━━━━━━━━━━━━━━━\u001b[0m\u001b[37m\u001b[0m \u001b[1m137s\u001b[0m 46ms/step - accuracy: 0.9527 - loss: 0.1111 - val_accuracy: 0.9465 - val_loss: 0.1226\n",
      "Epoch 14/100\n",
      "\u001b[1m3006/3006\u001b[0m \u001b[32m━━━━━━━━━━━━━━━━━━━━\u001b[0m\u001b[37m\u001b[0m \u001b[1m135s\u001b[0m 45ms/step - accuracy: 0.9524 - loss: 0.1119 - val_accuracy: 0.9471 - val_loss: 0.1204\n",
      "Epoch 15/100\n",
      "\u001b[1m3006/3006\u001b[0m \u001b[32m━━━━━━━━━━━━━━━━━━━━\u001b[0m\u001b[37m\u001b[0m \u001b[1m136s\u001b[0m 45ms/step - accuracy: 0.9528 - loss: 0.1104 - val_accuracy: 0.9470 - val_loss: 0.1187\n",
      "Epoch 16/100\n",
      "\u001b[1m3006/3006\u001b[0m \u001b[32m━━━━━━━━━━━━━━━━━━━━\u001b[0m\u001b[37m\u001b[0m \u001b[1m136s\u001b[0m 45ms/step - accuracy: 0.9525 - loss: 0.1108 - val_accuracy: 0.9462 - val_loss: 0.1187\n",
      "Epoch 17/100\n",
      "\u001b[1m3006/3006\u001b[0m \u001b[32m━━━━━━━━━━━━━━━━━━━━\u001b[0m\u001b[37m\u001b[0m \u001b[1m134s\u001b[0m 45ms/step - accuracy: 0.9525 - loss: 0.1102 - val_accuracy: 0.9466 - val_loss: 0.1283\n"
     ]
    }
   ],
   "source": [
    "history = model_rnn.fit(x_train,y_train,\n",
    "                    validation_split = 0.2,\n",
    "                    batch_size=256,\n",
    "                    epochs = 100,\n",
    "                    callbacks=early,\n",
    "                   )"
   ]
  },
  {
   "cell_type": "code",
   "execution_count": 30,
   "metadata": {
    "execution": {
     "iopub.status.busy": "2022-11-07T10:40:57.351238Z",
     "iopub.status.idle": "2022-11-07T10:40:57.351886Z",
     "shell.execute_reply": "2022-11-07T10:40:57.351624Z",
     "shell.execute_reply.started": "2022-11-07T10:40:57.351598Z"
    },
    "trusted": true
   },
   "outputs": [
    {
     "name": "stderr",
     "output_type": "stream",
     "text": [
      "WARNING:absl:You are saving your model as an HDF5 file via `model.save()` or `keras.saving.save_model(model)`. This file format is considered legacy. We recommend using instead the native Keras format, e.g. `model.save('my_model.keras')` or `keras.saving.save_model(model, 'my_model.keras')`. \n"
     ]
    }
   ],
   "source": [
    "model_rnn.save('Rnn_model_optimized.h5')"
   ]
  },
  {
   "cell_type": "code",
   "execution_count": 31,
   "metadata": {
    "execution": {
     "iopub.status.busy": "2022-11-07T10:40:57.353159Z",
     "iopub.status.idle": "2022-11-07T10:40:57.353763Z",
     "shell.execute_reply": "2022-11-07T10:40:57.353557Z",
     "shell.execute_reply.started": "2022-11-07T10:40:57.353519Z"
    },
    "trusted": true
   },
   "outputs": [],
   "source": [
    "history_df = pd.DataFrame(history.history)"
   ]
  },
  {
   "cell_type": "code",
   "execution_count": 32,
   "metadata": {
    "execution": {
     "iopub.status.busy": "2022-11-07T10:40:57.354980Z",
     "iopub.status.idle": "2022-11-07T10:40:57.355630Z",
     "shell.execute_reply": "2022-11-07T10:40:57.355391Z",
     "shell.execute_reply.started": "2022-11-07T10:40:57.355357Z"
    },
    "trusted": true
   },
   "outputs": [
    {
     "data": {
      "text/html": [
       "<div>\n",
       "<style scoped>\n",
       "    .dataframe tbody tr th:only-of-type {\n",
       "        vertical-align: middle;\n",
       "    }\n",
       "\n",
       "    .dataframe tbody tr th {\n",
       "        vertical-align: top;\n",
       "    }\n",
       "\n",
       "    .dataframe thead th {\n",
       "        text-align: right;\n",
       "    }\n",
       "</style>\n",
       "<table border=\"1\" class=\"dataframe\">\n",
       "  <thead>\n",
       "    <tr style=\"text-align: right;\">\n",
       "      <th></th>\n",
       "      <th>accuracy</th>\n",
       "      <th>loss</th>\n",
       "      <th>val_accuracy</th>\n",
       "      <th>val_loss</th>\n",
       "    </tr>\n",
       "  </thead>\n",
       "  <tbody>\n",
       "    <tr>\n",
       "      <th>0</th>\n",
       "      <td>0.927503</td>\n",
       "      <td>0.185510</td>\n",
       "      <td>0.943851</td>\n",
       "      <td>0.148294</td>\n",
       "    </tr>\n",
       "    <tr>\n",
       "      <th>1</th>\n",
       "      <td>0.949789</td>\n",
       "      <td>0.132581</td>\n",
       "      <td>0.945993</td>\n",
       "      <td>0.136706</td>\n",
       "    </tr>\n",
       "    <tr>\n",
       "      <th>2</th>\n",
       "      <td>0.950654</td>\n",
       "      <td>0.128958</td>\n",
       "      <td>0.946128</td>\n",
       "      <td>0.133370</td>\n",
       "    </tr>\n",
       "    <tr>\n",
       "      <th>3</th>\n",
       "      <td>0.951095</td>\n",
       "      <td>0.123591</td>\n",
       "      <td>0.946788</td>\n",
       "      <td>0.121764</td>\n",
       "    </tr>\n",
       "    <tr>\n",
       "      <th>4</th>\n",
       "      <td>0.950975</td>\n",
       "      <td>0.118496</td>\n",
       "      <td>0.946902</td>\n",
       "      <td>0.118963</td>\n",
       "    </tr>\n",
       "  </tbody>\n",
       "</table>\n",
       "</div>"
      ],
      "text/plain": [
       "   accuracy      loss  val_accuracy  val_loss\n",
       "0  0.927503  0.185510      0.943851  0.148294\n",
       "1  0.949789  0.132581      0.945993  0.136706\n",
       "2  0.950654  0.128958      0.946128  0.133370\n",
       "3  0.951095  0.123591      0.946788  0.121764\n",
       "4  0.950975  0.118496      0.946902  0.118963"
      ]
     },
     "execution_count": 32,
     "metadata": {},
     "output_type": "execute_result"
    }
   ],
   "source": [
    "history_df.head()"
   ]
  },
  {
   "cell_type": "code",
   "execution_count": 33,
   "metadata": {
    "execution": {
     "iopub.status.busy": "2022-11-07T10:40:57.356868Z",
     "iopub.status.idle": "2022-11-07T10:40:57.357450Z",
     "shell.execute_reply": "2022-11-07T10:40:57.357229Z",
     "shell.execute_reply.started": "2022-11-07T10:40:57.357201Z"
    },
    "trusted": true
   },
   "outputs": [],
   "source": [
    "import matplotlib.pyplot as plt"
   ]
  },
  {
   "cell_type": "code",
   "execution_count": 34,
   "metadata": {
    "execution": {
     "iopub.status.busy": "2022-11-07T10:40:57.358604Z",
     "iopub.status.idle": "2022-11-07T10:40:57.359276Z",
     "shell.execute_reply": "2022-11-07T10:40:57.359045Z",
     "shell.execute_reply.started": "2022-11-07T10:40:57.358999Z"
    },
    "trusted": true
   },
   "outputs": [
    {
     "data": {
      "text/plain": [
       "<Axes: >"
      ]
     },
     "execution_count": 34,
     "metadata": {},
     "output_type": "execute_result"
    },
    {
     "data": {
      "image/png": "[encoded data removed]",
      "text/plain": [
       "<Figure size 1500x1500 with 1 Axes>"
      ]
     },
     "metadata": {},
     "output_type": "display_data"
    }
   ],
   "source": [
    "plt.figure(figsize=(15,15))\n",
    "history_df['accuracy'].plot()"
   ]
  },
  {
   "cell_type": "code",
   "execution_count": null,
   "metadata": {
    "execution": {
     "iopub.status.busy": "2022-10-28T10:53:02.505963Z",
     "iopub.status.idle": "2022-10-28T10:53:02.506565Z",
     "shell.execute_reply": "2022-10-28T10:53:02.506351Z",
     "shell.execute_reply.started": "2022-10-28T10:53:02.506317Z"
    },
    "trusted": true
   },
   "outputs": [],
   "source": [
    "# x_train.shape"
   ]
  },
  {
   "cell_type": "code",
   "execution_count": null,
   "metadata": {
    "execution": {
     "iopub.status.busy": "2022-10-28T10:53:02.507706Z",
     "iopub.status.idle": "2022-10-28T10:53:02.508329Z",
     "shell.execute_reply": "2022-10-28T10:53:02.508091Z",
     "shell.execute_reply.started": "2022-10-28T10:53:02.508061Z"
    },
    "trusted": true
   },
   "outputs": [],
   "source": [
    "# input_shape = data.shape[0]"
   ]
  },
  {
   "cell_type": "code",
   "execution_count": null,
   "metadata": {
    "execution": {
     "iopub.status.busy": "2022-10-28T10:53:02.509464Z",
     "iopub.status.idle": "2022-10-28T10:53:02.510042Z",
     "shell.execute_reply": "2022-10-28T10:53:02.509847Z",
     "shell.execute_reply.started": "2022-10-28T10:53:02.509815Z"
    },
    "trusted": true
   },
   "outputs": [],
   "source": [
    "# input_shape = (x_train.shape[0],xtrain.shape[1],1)\n",
    "# model_cnn = tf.keras.models.Sequential([    \n",
    "#     layers.Conv1D(filters=128, kernel_size=1, activation = 'relu', input_shape=input_shape),\n",
    "#     layers.MaxPooling1D(),\n",
    "#     tf.keras.layers.Dropout(0.2),\n",
    "#     tf.keras.layers.BatchNormalization(),\n",
    "    \n",
    "# #     layers.Conv1D(64, 3, activation='relu'),\n",
    "# #     layers.MaxPooling1D(),\n",
    "# #     tf.keras.layers.Dropout(0.2),\n",
    "# #     tf.keras.layers.BatchNormalization(),\n",
    "    \n",
    "# #     layers.Conv1D(32, 3, activation='relu'),\n",
    "# #     layers.MaxPooling1D(),\n",
    "# #     tf.keras.layers.Dropout(0.2),\n",
    "# #     tf.keras.layers.BatchNormalization(),\n",
    "        \n",
    "# #     layers.Flatten(),\n",
    "# #     layers.Dense(128, activation='relu'),\n",
    "# #     tf.keras.layers.Dropout(0.2),\n",
    "# #     tf.keras.layers.BatchNormalization(),\n",
    "#     layers.Flatten(),\n",
    "# #     tf.keras.layers.Dropout(0.2),\n",
    "# #     tf.keras.layers.BatchNormalization(),\n",
    "#     tf.keras.layers.Dense(1,activation = 'sigmoid')\n",
    "# ])"
   ]
  },
  {
   "cell_type": "code",
   "execution_count": null,
   "metadata": {
    "execution": {
     "iopub.status.busy": "2022-10-28T10:53:02.511129Z",
     "iopub.status.idle": "2022-10-28T10:53:02.511690Z",
     "shell.execute_reply": "2022-10-28T10:53:02.511471Z",
     "shell.execute_reply.started": "2022-10-28T10:53:02.511440Z"
    },
    "trusted": true
   },
   "outputs": [],
   "source": [
    "# # The inputs are 256-length vectors with 17 timesteps or features, and the batch size\n",
    "# # is 4.\n",
    "# input_shape = (1, 17, 256)\n",
    "# x = tf.random.normal(input_shape)\n",
    "# y = tf.keras.layers.Conv1D(\n",
    "# 32, 3, activation='relu',input_shape=input_shape[1:])(x)\n",
    "# print(y.shape)\n",
    "\n"
   ]
  },
  {
   "cell_type": "code",
   "execution_count": null,
   "metadata": {
    "execution": {
     "iopub.status.busy": "2022-10-28T10:53:02.512755Z",
     "iopub.status.idle": "2022-10-28T10:53:02.513327Z",
     "shell.execute_reply": "2022-10-28T10:53:02.513124Z",
     "shell.execute_reply.started": "2022-10-28T10:53:02.513081Z"
    },
    "trusted": true
   },
   "outputs": [],
   "source": [
    "# input_shape = (1, 10, 128)\n",
    "# x = tf.random.normal(input_shape)\n",
    "# y = tf.keras.layers.Conv1D(\n",
    "# 32, 3, activation='relu', input_shape=input_shape)(x)\n",
    "# print(x[0][0])\n",
    "# print(y.shape)"
   ]
  },
  {
   "cell_type": "code",
   "execution_count": null,
   "metadata": {
    "execution": {
     "iopub.status.busy": "2022-10-28T10:53:02.514383Z",
     "iopub.status.idle": "2022-10-28T10:53:02.514956Z",
     "shell.execute_reply": "2022-10-28T10:53:02.514740Z",
     "shell.execute_reply.started": "2022-10-28T10:53:02.514710Z"
    },
    "trusted": true
   },
   "outputs": [],
   "source": [
    "# model_cnn.summary()"
   ]
  },
  {
   "cell_type": "code",
   "execution_count": null,
   "metadata": {
    "execution": {
     "iopub.status.busy": "2022-10-28T10:53:02.516018Z",
     "iopub.status.idle": "2022-10-28T10:53:02.516664Z",
     "shell.execute_reply": "2022-10-28T10:53:02.516440Z",
     "shell.execute_reply.started": "2022-10-28T10:53:02.516409Z"
    },
    "trusted": true
   },
   "outputs": [],
   "source": [
    "#keras.utils.plot_model(model_cnn, show_shapes=True)"
   ]
  },
  {
   "cell_type": "code",
   "execution_count": null,
   "metadata": {
    "execution": {
     "iopub.status.busy": "2022-10-28T10:53:02.517798Z",
     "iopub.status.idle": "2022-10-28T10:53:02.518371Z",
     "shell.execute_reply": "2022-10-28T10:53:02.518156Z",
     "shell.execute_reply.started": "2022-10-28T10:53:02.518127Z"
    },
    "trusted": true
   },
   "outputs": [],
   "source": [
    "# model_cnn.compile(optimizer='adam',\n",
    "#               loss = tf.keras.losses.BinaryCrossentropy(),\n",
    "#               metrics = ['accuracy']\n",
    "#              )"
   ]
  },
  {
   "cell_type": "code",
   "execution_count": null,
   "metadata": {
    "execution": {
     "iopub.status.busy": "2022-10-28T10:53:02.519475Z",
     "iopub.status.idle": "2022-10-28T10:53:02.520057Z",
     "shell.execute_reply": "2022-10-28T10:53:02.519841Z",
     "shell.execute_reply.started": "2022-10-28T10:53:02.519810Z"
    },
    "trusted": true
   },
   "outputs": [],
   "source": [
    "# x_test.shape"
   ]
  },
  {
   "cell_type": "code",
   "execution_count": null,
   "metadata": {
    "execution": {
     "iopub.status.busy": "2022-10-28T10:53:02.521207Z",
     "iopub.status.idle": "2022-10-28T10:53:02.521758Z",
     "shell.execute_reply": "2022-10-28T10:53:02.521559Z",
     "shell.execute_reply.started": "2022-10-28T10:53:02.521528Z"
    },
    "trusted": true
   },
   "outputs": [],
   "source": [
    "# db = tf.reshape(data,(1, data.shape[1], -1))"
   ]
  },
  {
   "cell_type": "code",
   "execution_count": null,
   "metadata": {
    "execution": {
     "iopub.status.busy": "2022-10-28T10:53:02.522807Z",
     "iopub.status.idle": "2022-10-28T10:53:02.523352Z",
     "shell.execute_reply": "2022-10-28T10:53:02.523141Z",
     "shell.execute_reply.started": "2022-10-28T10:53:02.523098Z"
    },
    "trusted": true
   },
   "outputs": [],
   "source": [
    "# train = tf.reshape(x_train,(-1, 17, 1))"
   ]
  },
  {
   "cell_type": "code",
   "execution_count": null,
   "metadata": {
    "execution": {
     "iopub.status.busy": "2022-10-28T10:53:02.524496Z",
     "iopub.status.idle": "2022-10-28T10:53:02.525038Z",
     "shell.execute_reply": "2022-10-28T10:53:02.524831Z",
     "shell.execute_reply.started": "2022-10-28T10:53:02.524802Z"
    },
    "trusted": true
   },
   "outputs": [],
   "source": [
    "# test = tf.reshape(x_test,(-1,17,1))"
   ]
  },
  {
   "cell_type": "code",
   "execution_count": null,
   "metadata": {
    "execution": {
     "iopub.status.busy": "2022-10-28T10:53:02.526133Z",
     "iopub.status.idle": "2022-10-28T10:53:02.526703Z",
     "shell.execute_reply": "2022-10-28T10:53:02.526485Z",
     "shell.execute_reply.started": "2022-10-28T10:53:02.526456Z"
    },
    "trusted": true
   },
   "outputs": [],
   "source": [
    "# train[0]"
   ]
  },
  {
   "cell_type": "code",
   "execution_count": null,
   "metadata": {
    "execution": {
     "iopub.status.busy": "2022-10-28T10:53:02.528322Z",
     "iopub.status.idle": "2022-10-28T10:53:02.528872Z",
     "shell.execute_reply": "2022-10-28T10:53:02.528659Z",
     "shell.execute_reply.started": "2022-10-28T10:53:02.528630Z"
    },
    "trusted": true
   },
   "outputs": [],
   "source": [
    "# db[0],target[0]"
   ]
  },
  {
   "cell_type": "code",
   "execution_count": null,
   "metadata": {
    "execution": {
     "iopub.status.busy": "2022-10-28T10:53:02.529934Z",
     "iopub.status.idle": "2022-10-28T10:53:02.530511Z",
     "shell.execute_reply": "2022-10-28T10:53:02.530302Z",
     "shell.execute_reply.started": "2022-10-28T10:53:02.530273Z"
    },
    "trusted": true
   },
   "outputs": [],
   "source": [
    "# t = tf.reshape(db,(-1,17,1))"
   ]
  },
  {
   "cell_type": "code",
   "execution_count": null,
   "metadata": {
    "execution": {
     "iopub.status.busy": "2022-10-28T10:53:02.531556Z",
     "iopub.status.idle": "2022-10-28T10:53:02.532149Z",
     "shell.execute_reply": "2022-10-28T10:53:02.531926Z",
     "shell.execute_reply.started": "2022-10-28T10:53:02.531896Z"
    },
    "trusted": true
   },
   "outputs": [],
   "source": [
    "# t.shape"
   ]
  },
  {
   "cell_type": "code",
   "execution_count": null,
   "metadata": {
    "execution": {
     "iopub.status.busy": "2022-10-28T10:53:02.533212Z",
     "iopub.status.idle": "2022-10-28T10:53:02.533789Z",
     "shell.execute_reply": "2022-10-28T10:53:02.533570Z",
     "shell.execute_reply.started": "2022-10-28T10:53:02.533539Z"
    },
    "trusted": true
   },
   "outputs": [],
   "source": [
    "# model_cnn(db)"
   ]
  },
  {
   "cell_type": "code",
   "execution_count": null,
   "metadata": {
    "execution": {
     "iopub.status.busy": "2022-10-28T10:53:02.534843Z",
     "iopub.status.idle": "2022-10-28T10:53:02.535413Z",
     "shell.execute_reply": "2022-10-28T10:53:02.535180Z",
     "shell.execute_reply.started": "2022-10-28T10:53:02.535150Z"
    },
    "trusted": true
   },
   "outputs": [],
   "source": [
    "# train[0]"
   ]
  },
  {
   "cell_type": "code",
   "execution_count": null,
   "metadata": {
    "execution": {
     "iopub.status.busy": "2022-10-28T10:53:02.536544Z",
     "iopub.status.idle": "2022-10-28T10:53:02.537161Z",
     "shell.execute_reply": "2022-10-28T10:53:02.536880Z",
     "shell.execute_reply.started": "2022-10-28T10:53:02.536851Z"
    },
    "trusted": true
   },
   "outputs": [],
   "source": [
    "# test[0]"
   ]
  },
  {
   "cell_type": "code",
   "execution_count": null,
   "metadata": {
    "execution": {
     "iopub.status.busy": "2022-10-28T10:53:02.538303Z",
     "iopub.status.idle": "2022-10-28T10:53:02.538877Z",
     "shell.execute_reply": "2022-10-28T10:53:02.538658Z",
     "shell.execute_reply.started": "2022-10-28T10:53:02.538627Z"
    },
    "trusted": true
   },
   "outputs": [],
   "source": [
    "# input_shape = (train.shape[0],train.shape[1],1)"
   ]
  },
  {
   "cell_type": "code",
   "execution_count": null,
   "metadata": {
    "execution": {
     "iopub.status.busy": "2022-10-28T10:53:02.539933Z",
     "iopub.status.idle": "2022-10-28T10:53:02.540509Z",
     "shell.execute_reply": "2022-10-28T10:53:02.540304Z",
     "shell.execute_reply.started": "2022-10-28T10:53:02.540276Z"
    },
    "trusted": true
   },
   "outputs": [],
   "source": [
    "# history1 = model_cnn.fit(train,y_train,\n",
    "#                     validation_data=(test,y_test),\n",
    "#                     epochs = 100,\n",
    "#                     callbacks=early,\n",
    "#                    )"
   ]
  },
  {
   "cell_type": "code",
   "execution_count": null,
   "metadata": {},
   "outputs": [],
   "source": []
  },
  {
   "cell_type": "code",
   "execution_count": null,
   "metadata": {
    "execution": {
     "iopub.status.busy": "2022-10-28T10:53:02.541581Z",
     "iopub.status.idle": "2022-10-28T10:53:02.542157Z",
     "shell.execute_reply": "2022-10-28T10:53:02.541946Z",
     "shell.execute_reply.started": "2022-10-28T10:53:02.541917Z"
    },
    "trusted": true
   },
   "outputs": [],
   "source": [
    "# history1_df = pd.DataFrame(history1.history)"
   ]
  },
  {
   "cell_type": "code",
   "execution_count": null,
   "metadata": {
    "execution": {
     "iopub.status.busy": "2022-10-28T10:53:02.543218Z",
     "iopub.status.idle": "2022-10-28T10:53:02.543772Z",
     "shell.execute_reply": "2022-10-28T10:53:02.543565Z",
     "shell.execute_reply.started": "2022-10-28T10:53:02.543536Z"
    },
    "trusted": true
   },
   "outputs": [],
   "source": [
    "# plt.figure(figsize=(15,15))\n",
    "# history1_df['accuracy'].plot()"
   ]
  },
  {
   "cell_type": "code",
   "execution_count": null,
   "metadata": {
    "execution": {
     "iopub.status.busy": "2022-10-28T10:53:02.544864Z",
     "iopub.status.idle": "2022-10-28T10:53:02.545425Z",
     "shell.execute_reply": "2022-10-28T10:53:02.545216Z",
     "shell.execute_reply.started": "2022-10-28T10:53:02.545186Z"
    },
    "trusted": true
   },
   "outputs": [],
   "source": [
    "# model_cnn.save('Cnn_model.h5')"
   ]
  },
  {
   "cell_type": "code",
   "execution_count": null,
   "metadata": {},
   "outputs": [],
   "source": []
  }
 ],
 "metadata": {
  "kaggle": {
   "accelerator": "nvidiaTeslaT4",
   "dataSources": [
    {
     "datasetId": 1995528,
     "sourceId": 3298192,
     "sourceType": "datasetVersion"
    },
    {
     "datasetId": 2009739,
     "sourceId": 3325093,
     "sourceType": "datasetVersion"
    }
   ],
   "dockerImageVersionId": 30171,
   "isGpuEnabled": true,
   "isInternetEnabled": true,
   "language": "python",
   "sourceType": "notebook"
  },
  "kernelspec": {
   "display_name": "base",
   "language": "python",
   "name": "python3"
  },
  "language_info": {
   "codemirror_mode": {
    "name": "ipython",
    "version": 3
   },
   "file_extension": ".py",
   "mimetype": "text/x-python",
   "name": "python",
   "nbconvert_exporter": "python",
   "pygments_lexer": "ipython3",
   "version": "3.11.5"
  }
 },
 "nbformat": 4,
 "nbformat_minor": 4
}
